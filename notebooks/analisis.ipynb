{
 "cells": [
  {
   "cell_type": "markdown",
   "metadata": {},
   "source": [
    "## Naranja X "
   ]
  },
  {
   "cell_type": "code",
   "execution_count": 1,
   "metadata": {},
   "outputs": [
    {
     "data": {
      "text/html": [
       "<div>\n",
       "<style scoped>\n",
       "    .dataframe tbody tr th:only-of-type {\n",
       "        vertical-align: middle;\n",
       "    }\n",
       "\n",
       "    .dataframe tbody tr th {\n",
       "        vertical-align: top;\n",
       "    }\n",
       "\n",
       "    .dataframe thead th {\n",
       "        text-align: right;\n",
       "    }\n",
       "</style>\n",
       "<table border=\"1\" class=\"dataframe\">\n",
       "  <thead>\n",
       "    <tr style=\"text-align: right;\">\n",
       "      <th></th>\n",
       "      <th>Unnamed: 0</th>\n",
       "      <th>Date</th>\n",
       "      <th>User</th>\n",
       "      <th>Tweet</th>\n",
       "    </tr>\n",
       "  </thead>\n",
       "  <tbody>\n",
       "    <tr>\n",
       "      <th>0</th>\n",
       "      <td>1</td>\n",
       "      <td>2023-03-06 15:21:06+00:00</td>\n",
       "      <td>GeorgiGaveglio</td>\n",
       "      <td>@NaranjaX el tema no es pagarlo por el homeban...</td>\n",
       "    </tr>\n",
       "    <tr>\n",
       "      <th>1</th>\n",
       "      <td>5</td>\n",
       "      <td>2023-03-06 15:15:04+00:00</td>\n",
       "      <td>taru_commongirl</td>\n",
       "      <td>@NaranjaX no puedo registrarme en la app y aho...</td>\n",
       "    </tr>\n",
       "    <tr>\n",
       "      <th>2</th>\n",
       "      <td>7</td>\n",
       "      <td>2023-03-06 15:13:30+00:00</td>\n",
       "      <td>Shirsabi</td>\n",
       "      <td>@NaranjaX Si hablenme por privado por favor.</td>\n",
       "    </tr>\n",
       "    <tr>\n",
       "      <th>3</th>\n",
       "      <td>9</td>\n",
       "      <td>2023-03-06 15:10:47+00:00</td>\n",
       "      <td>JesoLedesma</td>\n",
       "      <td>@NaranjaX Ya les mande msj ! Ya me prometieron...</td>\n",
       "    </tr>\n",
       "    <tr>\n",
       "      <th>4</th>\n",
       "      <td>13</td>\n",
       "      <td>2023-03-06 15:04:58+00:00</td>\n",
       "      <td>smutsipou</td>\n",
       "      <td>@NaranjaX @ConsumidorPba Estoy esperando…</td>\n",
       "    </tr>\n",
       "    <tr>\n",
       "      <th>...</th>\n",
       "      <td>...</td>\n",
       "      <td>...</td>\n",
       "      <td>...</td>\n",
       "      <td>...</td>\n",
       "    </tr>\n",
       "    <tr>\n",
       "      <th>5817</th>\n",
       "      <td>9995</td>\n",
       "      <td>2022-12-08 15:22:14+00:00</td>\n",
       "      <td>YoaMrx</td>\n",
       "      <td>@NaranjaX Todavía no me llega la transferencia...</td>\n",
       "    </tr>\n",
       "    <tr>\n",
       "      <th>5818</th>\n",
       "      <td>9996</td>\n",
       "      <td>2022-12-08 15:21:11+00:00</td>\n",
       "      <td>juliantachu</td>\n",
       "      <td>@NaranjaX llevo más de 24 esperando que me lle...</td>\n",
       "    </tr>\n",
       "    <tr>\n",
       "      <th>5819</th>\n",
       "      <td>9997</td>\n",
       "      <td>2022-12-08 15:20:33+00:00</td>\n",
       "      <td>mariocarman</td>\n",
       "      <td>@NaranjaX Ese flequillo NO me da confianza.</td>\n",
       "    </tr>\n",
       "    <tr>\n",
       "      <th>5820</th>\n",
       "      <td>9998</td>\n",
       "      <td>2022-12-08 15:17:36+00:00</td>\n",
       "      <td>hearstprxx</td>\n",
       "      <td>@Franco70180993 @NaranjaX hice eso varias vece...</td>\n",
       "    </tr>\n",
       "    <tr>\n",
       "      <th>5821</th>\n",
       "      <td>9999</td>\n",
       "      <td>2022-12-08 15:16:26+00:00</td>\n",
       "      <td>SergioR92738552</td>\n",
       "      <td>@marinueto @NaranjaX No puedo entrar a la app ...</td>\n",
       "    </tr>\n",
       "  </tbody>\n",
       "</table>\n",
       "<p>5822 rows × 4 columns</p>\n",
       "</div>"
      ],
      "text/plain": [
       "      Unnamed: 0                       Date             User  \\\n",
       "0              1  2023-03-06 15:21:06+00:00   GeorgiGaveglio   \n",
       "1              5  2023-03-06 15:15:04+00:00  taru_commongirl   \n",
       "2              7  2023-03-06 15:13:30+00:00         Shirsabi   \n",
       "3              9  2023-03-06 15:10:47+00:00      JesoLedesma   \n",
       "4             13  2023-03-06 15:04:58+00:00        smutsipou   \n",
       "...          ...                        ...              ...   \n",
       "5817        9995  2022-12-08 15:22:14+00:00           YoaMrx   \n",
       "5818        9996  2022-12-08 15:21:11+00:00      juliantachu   \n",
       "5819        9997  2022-12-08 15:20:33+00:00      mariocarman   \n",
       "5820        9998  2022-12-08 15:17:36+00:00       hearstprxx   \n",
       "5821        9999  2022-12-08 15:16:26+00:00  SergioR92738552   \n",
       "\n",
       "                                                  Tweet  \n",
       "0     @NaranjaX el tema no es pagarlo por el homeban...  \n",
       "1     @NaranjaX no puedo registrarme en la app y aho...  \n",
       "2          @NaranjaX Si hablenme por privado por favor.  \n",
       "3     @NaranjaX Ya les mande msj ! Ya me prometieron...  \n",
       "4             @NaranjaX @ConsumidorPba Estoy esperando…  \n",
       "...                                                 ...  \n",
       "5817  @NaranjaX Todavía no me llega la transferencia...  \n",
       "5818  @NaranjaX llevo más de 24 esperando que me lle...  \n",
       "5819        @NaranjaX Ese flequillo NO me da confianza.  \n",
       "5820  @Franco70180993 @NaranjaX hice eso varias vece...  \n",
       "5821  @marinueto @NaranjaX No puedo entrar a la app ...  \n",
       "\n",
       "[5822 rows x 4 columns]"
      ]
     },
     "execution_count": 1,
     "metadata": {},
     "output_type": "execute_result"
    }
   ],
   "source": [
    "import pandas as pd\n",
    "\n",
    "df = pd.read_csv(\"../data/data_naranjax.csv\")\n",
    "\n",
    "df"
   ]
  },
  {
   "cell_type": "code",
   "execution_count": 2,
   "metadata": {},
   "outputs": [
    {
     "name": "stderr",
     "output_type": "stream",
     "text": [
      "/home/jmperez/projects/twitter-brands/.venv/lib/python3.8/site-packages/tqdm/auto.py:21: TqdmWarning: IProgress not found. Please update jupyter and ipywidgets. See https://ipywidgets.readthedocs.io/en/stable/user_install.html\n",
      "  from .autonotebook import tqdm as notebook_tqdm\n",
      "The following columns in the test set don't have a corresponding argument in `RobertaForSequenceClassification.forward` and have been ignored: text. If text are not expected by `RobertaForSequenceClassification.forward`,  you can safely ignore this message.\n",
      "***** Running Prediction *****\n",
      "  Num examples = 5822\n",
      "  Batch size = 32\n",
      "You're using a PreTrainedTokenizerFast tokenizer. Please note that with a fast tokenizer, using the `__call__` method is faster than using a method to encode the text followed by a call to the `pad` method to get a padded encoding.\n"
     ]
    }
   ],
   "source": [
    "from pysentimiento import create_analyzer\n",
    "\n",
    "analyzer = create_analyzer(task=\"emotion\", lang=\"es\")\n",
    "\n",
    "analysis = analyzer.predict(df[\"Tweet\"])"
   ]
  },
  {
   "cell_type": "code",
   "execution_count": null,
   "metadata": {},
   "outputs": [],
   "source": [
    "emotions = [a.output for a in analysis]\n",
    "\n",
    "df[\"emotions\"] = emotions"
   ]
  },
  {
   "cell_type": "code",
   "execution_count": null,
   "metadata": {},
   "outputs": [],
   "source": [
    "pd.options.display.max_colwidth = 200\n",
    "\n",
    "df"
   ]
  },
  {
   "cell_type": "code",
   "execution_count": null,
   "metadata": {},
   "outputs": [],
   "source": [
    "df[\"emotions\"].value_counts()"
   ]
  },
  {
   "cell_type": "code",
   "execution_count": null,
   "metadata": {},
   "outputs": [],
   "source": [
    "from transformers import AutoModel, AutoTokenizer\n",
    "from pysentimiento.preprocessing import preprocess_tweet\n",
    "from datasets import Dataset\n",
    "\n",
    "device = \"cuda\" if torch.cuda.is_available() else \"cpu\"\n",
    "\n",
    "model = AutoModel.from_pretrained(\"pysentimiento/robertuito-emotion-analysis\")\n",
    "tokenizer = AutoTokenizer.from_pretrained(\"pysentimiento/robertuito-emotion-analysis\")\n",
    "\n",
    "model = model.to(device)\n",
    "\n",
    "# Create dataset from pandas\n",
    "\n",
    "dataset = Dataset.from_pandas(df)"
   ]
  },
  {
   "cell_type": "code",
   "execution_count": null,
   "metadata": {},
   "outputs": [],
   "source": [
    "dataset = dataset.map(lambda ex: {\"text\": preprocess_tweet(ex[\"Tweet\"], lang=\"es\")}, batched=False)"
   ]
  },
  {
   "cell_type": "code",
   "execution_count": null,
   "metadata": {},
   "outputs": [],
   "source": [
    "def _tokenize(batch):\n",
    "    return tokenizer(\n",
    "        batch[\"text\"], padding=False, truncation=True\n",
    "    )\n",
    "\n",
    "dataset = dataset.map(_tokenize, batched=True, batch_size=64)"
   ]
  },
  {
   "cell_type": "code",
   "execution_count": null,
   "metadata": {},
   "outputs": [],
   "source": [
    "# Create dataloader\n",
    "from torch.utils.data import DataLoader\n",
    "\n",
    "def collate_fn(examples):\n",
    "    # Restrict to input_ids, attention_mask, and token_type_ids\n",
    "    examples = [{k:v for k,v in ex.items() if k in [\"input_ids\", \"attention_mask\", \"token_type_ids\"]} for ex in examples]\n",
    "\n",
    "    ret = tokenizer.pad(examples, padding=True)\n",
    "\n",
    "    return ret\n",
    "    \n",
    "    \n",
    "\n",
    "\n",
    "dataloader = DataLoader(dataset, batch_size=128, shuffle=False, collate_fn=collate_fn)"
   ]
  },
  {
   "cell_type": "code",
   "execution_count": null,
   "metadata": {},
   "outputs": [],
   "source": [
    "import torch\n",
    "from tqdm.auto import tqdm\n",
    "\n",
    "outs = []\n",
    "\n",
    "for batch in tqdm(dataloader):\n",
    "    batch = {k:torch.LongTensor(v).to(device) for k,v in batch.items()}\n",
    "    outs.append(model(**batch))"
   ]
  },
  {
   "cell_type": "code",
   "execution_count": null,
   "metadata": {},
   "outputs": [],
   "source": []
  }
 ],
 "metadata": {
  "kernelspec": {
   "display_name": ".venv",
   "language": "python",
   "name": "python3"
  },
  "language_info": {
   "codemirror_mode": {
    "name": "ipython",
    "version": 3
   },
   "file_extension": ".py",
   "mimetype": "text/x-python",
   "name": "python",
   "nbconvert_exporter": "python",
   "pygments_lexer": "ipython3",
   "version": "3.8.16"
  },
  "orig_nbformat": 4
 },
 "nbformat": 4,
 "nbformat_minor": 2
}
